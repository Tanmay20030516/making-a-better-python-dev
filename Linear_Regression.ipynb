{
 "cells": [
  {
   "cell_type": "code",
   "execution_count": null,
   "id": "69d154db",
   "metadata": {},
   "outputs": [],
   "source": [
    "class LinearRegression:\n",
    "    \"\"\"Linear Regression from scratch using gradient descent\"\"\"\n",
    "    \n",
    "    def __init__(self, learning_rate: float = 0.01, n_iterations: int = 1000):\n",
    "        self.learning_rate = learning_rate\n",
    "        self.n_iterations = n_iterations\n",
    "        self.weights = None\n",
    "        self.bias = None\n",
    "        self.costs = []\n",
    "    \n",
    "    def fit(self, X: np.ndarray, y: np.ndarray):\n",
    "        \"\"\"Train the linear regression model\"\"\"\n",
    "        n_samples, n_features = X.shape\n",
    "        \n",
    "        # Initialize parameters\n",
    "        self.weights = np.zeros(n_features)\n",
    "        self.bias = 0\n",
    "        \n",
    "        # Gradient descent\n",
    "        for i in range(self.n_iterations):\n",
    "            y_pred = self._predict(X)\n",
    "            cost = self._compute_cost(y, y_pred)\n",
    "            self.costs.append(cost)\n",
    "            \n",
    "            # Compute gradients\n",
    "            dw = (1/n_samples) * np.dot(X.T, (y_pred - y))\n",
    "            db = (1/n_samples) * np.sum(y_pred - y)\n",
    "            \n",
    "            # Update parameters\n",
    "            self.weights -= self.learning_rate * dw\n",
    "            self.bias -= self.learning_rate * db\n",
    "    \n",
    "    def predict(self, X: np.ndarray) -> np.ndarray:\n",
    "        \"\"\"Make predictions\"\"\"\n",
    "        return self._predict(X)\n",
    "    \n",
    "    def _predict(self, X: np.ndarray) -> np.ndarray:\n",
    "        \"\"\"Internal prediction method\"\"\"\n",
    "        return np.dot(X, self.weights) + self.bias\n",
    "    \n",
    "    def _compute_cost(self, y_true: np.ndarray, y_pred: np.ndarray) -> float:\n",
    "        \"\"\"Compute mean squared error\"\"\"\n",
    "        return np.mean((y_true - y_pred)**2)"
   ]
  }
 ],
 "metadata": {
  "language_info": {
   "name": "python"
  }
 },
 "nbformat": 4,
 "nbformat_minor": 5
}
